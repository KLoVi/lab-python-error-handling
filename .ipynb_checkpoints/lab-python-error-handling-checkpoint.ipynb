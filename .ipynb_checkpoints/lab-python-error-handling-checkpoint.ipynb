{
 "cells": [
  {
   "cell_type": "markdown",
   "id": "25d7736c-ba17-4aff-b6bb-66eba20fbf4e",
   "metadata": {},
   "source": [
    "# Lab | Error Handling"
   ]
  },
  {
   "cell_type": "markdown",
   "id": "bc99b386-7508-47a0-bcdb-d969deaf6c8b",
   "metadata": {},
   "source": [
    "## Exercise: Error Handling for Managing Customer Orders\n",
    "\n",
    "The implementation of your code for managing customer orders assumes that the user will always enter a valid input. \n",
    "\n",
    "For example, we could modify the `initialize_inventory` function to include error handling.\n",
    "   - If the user enters an invalid quantity (e.g., a negative value or a non-numeric value), display an error message and ask them to re-enter the quantity for that product.\n",
    "   - Use a try-except block to handle the error and continue prompting the user until a valid quantity is entered.\n",
    "\n",
    "```python\n",
    "# Step 1: Define the function for initializing the inventory with error handling\n",
    "def initialize_inventory(products):\n",
    "    inventory = {}\n",
    "    for product in products:\n",
    "        valid_quantity = False\n",
    "        while not valid_quantity:\n",
    "            try:\n",
    "                quantity = int(input(f\"Enter the quantity of {product}s available: \"))\n",
    "                if quantity < 0:\n",
    "                    raise ValueError(\"Invalid quantity! Please enter a non-negative value.\")\n",
    "                valid_quantity = True\n",
    "            except ValueError as error:\n",
    "                print(f\"Error: {error}\")\n",
    "        inventory[product] = quantity\n",
    "    return inventory\n",
    "\n",
    "# Or, in another way:\n",
    "\n",
    "def initialize_inventory(products):\n",
    "    inventory = {}\n",
    "    for product in products:\n",
    "        valid_input = False\n",
    "        while not valid_input:\n",
    "            try:\n",
    "                quantity = int(input(f\"Enter the quantity of {product}s available: \"))\n",
    "                if quantity >= 0:\n",
    "                    inventory[product] = quantity\n",
    "                    valid_input = True\n",
    "                else:\n",
    "                    print(\"Quantity cannot be negative. Please enter a valid quantity.\")\n",
    "            except ValueError:\n",
    "                print(\"Invalid input. Please enter a valid quantity.\")\n",
    "    return inventory\n",
    "```\n",
    "\n",
    "Let's enhance your code by implementing error handling to handle invalid inputs.\n",
    "\n",
    "Follow the steps below to complete the exercise:\n",
    "\n",
    "2. Modify the `calculate_total_price` function to include error handling.\n",
    "   - If the user enters an invalid price (e.g., a negative value or a non-numeric value), display an error message and ask them to re-enter the price for that product.\n",
    "   - Use a try-except block to handle the error and continue prompting the user until a valid price is entered.\n",
    "\n",
    "3. Modify the `get_customer_orders` function to include error handling.\n",
    "   - If the user enters an invalid number of orders (e.g., a negative value or a non-numeric value), display an error message and ask them to re-enter the number of orders.\n",
    "   - If the user enters an invalid product name (e.g., a product name that is not in the inventory), or that doesn't have stock available, display an error message and ask them to re-enter the product name. *Hint: you will need to pass inventory as a parameter*\n",
    "   - Use a try-except block to handle the error and continue prompting the user until a valid product name is entered.\n",
    "\n",
    "4. Test your code by running the program and deliberately entering invalid quantities and product names. Make sure the error handling mechanism works as expected.\n"
   ]
  },
  {
   "cell_type": "code",
   "execution_count": null,
   "id": "f731e8a9",
   "metadata": {},
   "outputs": [],
   "source": [
    "products = [\"t-shirt\", \"mug\", \"hat\", \"book\", \"keychain\"]"
   ]
  },
  {
   "cell_type": "code",
   "execution_count": null,
   "id": "1e0b3256",
   "metadata": {},
   "outputs": [],
   "source": [
    "def initialize_inventory(products):\n",
    "    inventory = {}\n",
    "    for product in products:\n",
    "        valid_quantity = False\n",
    "        while not valid_quantity:\n",
    "            try:\n",
    "                quantity = int(input(f\"Enter the quantity of {product}s available: \"))\n",
    "                if quantity < 0:\n",
    "                    raise ValueError(\"Invalid quantity! Please enter a non-negative value.\")\n",
    "                valid_quantity = True\n",
    "            except ValueError as error:\n",
    "                print(f\"Error: {error}\")\n",
    "        inventory[product] = quantity\n",
    "    return inventory"
   ]
  },
  {
   "cell_type": "code",
   "execution_count": null,
   "id": "8c69c026",
   "metadata": {
    "scrolled": true
   },
   "outputs": [],
   "source": [
    "initialize_inventory(products)"
   ]
  },
  {
   "cell_type": "code",
   "execution_count": null,
   "id": "789aaeb3",
   "metadata": {},
   "outputs": [],
   "source": [
    "def get_customer_orders():\n",
    "    customer_orders = set()\n",
    "    question = input(\"Please write the type of product you would like to order: \")   \n",
    "    \n",
    "    valid_input1 = False # inicializar primer while not_verificar producto en lista de productos.\n",
    "    while not valid_input1:  \n",
    "        if question in products:\n",
    "            print(\"OK\")\n",
    "                  \n",
    "            valid_input1 = True #este me saca del loop del primer while not que verifica que el nombre del producto pertenece a la lista de productos\n",
    "        else:\n",
    "            print(\"Incorrect product or wrong written. Try again!\")"
   ]
  },
  {
   "cell_type": "code",
   "execution_count": null,
   "id": "2f65c220",
   "metadata": {},
   "outputs": [],
   "source": [
    "get_customer_orders()"
   ]
  },
  {
   "cell_type": "code",
   "execution_count": null,
   "id": "db6510ec",
   "metadata": {},
   "outputs": [],
   "source": [
    "def get_customer_orders():\n",
    "    customer_orders = set()\n",
    "    \n",
    "    valid_input1 = False # inicializar primer while not_verificar producto en lista de productos.\n",
    "    while not valid_input1:\n",
    "        question = input(\"Please write the product you would like to order: \")   \n",
    "        \n",
    "        if question in products:\n",
    "            \n",
    "            valid_imput2 = False\n",
    "            while not valid_input2:\n",
    "                customer_orders.add(question)\n",
    "                more = input(\"Add more products? write 'yes' or 'not')\n",
    "                more = more.lower()\n",
    "                \n",
    "                if more == \"yes\":\n",
    "                    question = input(\"Please write the type of product you would like to order: \"\n",
    "                    customer_orders.add(question)   \n",
    "                \n",
    "                if more == \"not\":\n",
    "                         \n",
    "\n",
    "        \n",
    "            valid_input1 = True #este me saca del loop del primer while not que verifica que el nombre del producto pertenece a la lista de productos\n",
    "        else:\n",
    "            print(\"Incorrect product or wrong written. Try again!\")\n",
    "    \n",
    "    \n",
    "    return(customer_orders)"
   ]
  },
  {
   "cell_type": "code",
   "execution_count": null,
   "id": "f69204f8",
   "metadata": {},
   "outputs": [],
   "source": []
  },
  {
   "cell_type": "code",
   "execution_count": 3,
   "id": "64c4b46f",
   "metadata": {},
   "outputs": [],
   "source": [
    "customer_orders = {\"book\", \"hat\", \"mug\"}"
   ]
  },
  {
   "cell_type": "code",
   "execution_count": 4,
   "id": "0839e4ef",
   "metadata": {},
   "outputs": [],
   "source": [
    "def total_price (customer_orders): \n",
    "    for item in customer_orders:\n",
    "        x = False\n",
    "        while not x:\n",
    "            try:\n",
    "                price_unit = [float(input(f\"How much the product '{item}' cost?: \"))]\n",
    "                if price_unit < 0:\n",
    "                    raise ValueError(\"Invalid quantity! Please enter a non-negative value.\")\n",
    "                if price_unit == 0:\n",
    "                    raise ValueError(\"Are you sure the price is cero?\")\n",
    "                x = True    \n",
    "            except Exception as e:\n",
    "                print(type(e))\n",
    "                print(e)\n",
    "       \n",
    "    return (price_unit)"
   ]
  },
  {
   "cell_type": "code",
   "execution_count": null,
   "id": "54b52963",
   "metadata": {},
   "outputs": [
    {
     "name": "stdout",
     "output_type": "stream",
     "text": [
      "How much the product 'mug' cost?: 1\n",
      "<class 'TypeError'>\n",
      "'<' not supported between instances of 'list' and 'int'\n"
     ]
    }
   ],
   "source": [
    "total_price(customer_orders)"
   ]
  },
  {
   "cell_type": "code",
   "execution_count": 4,
   "id": "0383a65c",
   "metadata": {},
   "outputs": [],
   "source": [
    "def total_price (customer_orders): \n",
    "    for item in customer_orders:\n",
    "        x = False\n",
    "        while not x:\n",
    "            try:\n",
    "                price_unit = [float(input(f\"How much the product '{item}' cost?: \"))]\n",
    "                if price_unit < 0:\n",
    "                    raise ValueError(\"Invalid quantity! Please enter a non-negative value.\")\n",
    "                x = True    \n",
    "            except Exception as e:\n",
    "                print(type(e))\n",
    "                print(e)\n",
    "       \n",
    "    return (price_unit)"
   ]
  },
  {
   "cell_type": "code",
   "execution_count": null,
   "id": "4786ba20",
   "metadata": {},
   "outputs": [],
   "source": [
    "def initialize_inventory(products):\n",
    "    inventory = {}\n",
    "    for product in products:\n",
    "        valid_quantity = False\n",
    "        while not valid_quantity:\n",
    "            try:\n",
    "                quantity = int(input(f\"Enter the quantity of {product}s available: \"))\n",
    "                if quantity < 0:\n",
    "                    raise ValueError(\"Invalid quantity! Please enter a non-negative value.\")\n",
    "                valid_quantity = True\n",
    "            except ValueError as error:\n",
    "                print(f\"Error: {error}\")\n",
    "        inventory[product] = quantity\n",
    "    return inventory"
   ]
  },
  {
   "cell_type": "code",
   "execution_count": null,
   "id": "8d2b7fd5",
   "metadata": {},
   "outputs": [],
   "source": []
  }
 ],
 "metadata": {
  "kernelspec": {
   "display_name": "Python 3 (ipykernel)",
   "language": "python",
   "name": "python3"
  },
  "language_info": {
   "codemirror_mode": {
    "name": "ipython",
    "version": 3
   },
   "file_extension": ".py",
   "mimetype": "text/x-python",
   "name": "python",
   "nbconvert_exporter": "python",
   "pygments_lexer": "ipython3",
   "version": "3.11.7"
  }
 },
 "nbformat": 4,
 "nbformat_minor": 5
}
